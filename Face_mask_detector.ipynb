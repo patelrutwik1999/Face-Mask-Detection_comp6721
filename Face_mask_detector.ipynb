{
  "nbformat": 4,
  "nbformat_minor": 0,
  "metadata": {
    "accelerator": "GPU",
    "colab": {
      "name": "Face_mask_detector.ipynb",
      "provenance": [],
      "collapsed_sections": []
    },
    "kernelspec": {
      "display_name": "Python 3",
      "name": "python3"
    },
    "language_info": {
      "name": "python"
    }
  },
  "cells": [
    {
      "cell_type": "code",
      "metadata": {
        "id": "dVl2LhOMGHQh"
      },
      "source": [
        "#All the required libraries are imported here\n",
        "from google.colab import drive\n",
        "import os\n",
        "import cv2\n",
        "import torch\n",
        "import numpy as np\n",
        "import matplotlib.pyplot as plt\n",
        "import matplotlib\n",
        "from tqdm import tqdm\n",
        "import torch.nn as nn\n",
        "from torch.utils.data import DataLoader\n",
        "from sklearn.model_selection import train_test_split\n",
        "from torch.utils.data.dataset import Dataset\n",
        "from torchvision.transforms import ToPILImage, Compose, ToTensor, Resize, Normalize\n",
        "from sklearn.metrics import accuracy_score\n",
        "from sklearn.metrics import plot_confusion_matrix\n",
        "from sklearn.metrics import classification_report, confusion_matrix\n",
        "from torchvision import transforms\n",
        "from PIL import Image\n",
        "import seaborn as sns"
      ],
      "execution_count": 59,
      "outputs": []
    },
    {
      "cell_type": "code",
      "metadata": {
        "id": "b1PjKCLbHXvd"
      },
      "source": [
        "#References\n",
        "#https://www.geeksforgeeks.org/python-opencv-cv2-imread-method/\n",
        "#https://stackoverflow.com/questions/53673575/in-place-shuffle-torch-tensor-in-the-order-of-a-numpy-ndarray\n",
        "#https://medium.com/swlh/introduction-to-cnn-image-classification-using-cnn-in-pytorch-11eefae6d83c\n",
        "#\n",
        "#\n",
        "#https://pytorch.org/tutorials/beginner/saving_loading_models.html"
      ],
      "execution_count": null,
      "outputs": []
    },
    {
      "cell_type": "code",
      "metadata": {
        "colab": {
          "base_uri": "https://localhost:8080/"
        },
        "id": "x53a-rXXHNLg",
        "outputId": "d39d338a-6ba0-4a0d-f7fd-77569e1d553f"
      },
      "source": [
        "#Setting the path up for the dataset. Dataset is in Goole Drive\n",
        "drive.mount('/content/drive', force_remount=True)\n",
        "dir_path = \"/content/drive/My Drive/Face Mask Detection/Datasets\"\n",
        "save_dir = \"/content/drive/My Drive/Face Mask Detection/loaded_images.npy\"\n",
        "model_dir = \"/content/drive/My Drive/Face Mask Detection/saved_model\"\n",
        "sample_image_path = \"/content/drive/My Drive/Face Mask Detection/test\""
      ],
      "execution_count": 60,
      "outputs": [
        {
          "output_type": "stream",
          "name": "stdout",
          "text": [
            "Mounted at /content/drive\n"
          ]
        }
      ]
    },
    {
      "cell_type": "code",
      "metadata": {
        "id": "cAj2iWcQHax5"
      },
      "source": [
        "#get four categories of data \n",
        "def get_data_class(dir_path):\n",
        "  classes = os.listdir(dir_path)\n",
        "  print(classes)\n",
        "  return classes"
      ],
      "execution_count": 63,
      "outputs": []
    },
    {
      "cell_type": "code",
      "metadata": {
        "id": "6_wubfuUHss0"
      },
      "source": [
        "#Here, we will zip labels and classes(category) of data\n",
        "def set_labels_and_zip_class_and_label(data_class):\n",
        "  label = [i for i in range(len(data_class))]\n",
        "  print(label)\n",
        "\n",
        "  label_dict = dict(zip(data_class,label))\n",
        "  print(label_dict)\n",
        "  \n",
        "  return label_dict "
      ],
      "execution_count": 62,
      "outputs": []
    },
    {
      "cell_type": "code",
      "metadata": {
        "id": "gZzy8Bp0IImm"
      },
      "source": [
        "#Retreiving image from the specified path and then appending the image to its label into a numpy array.\n",
        "def load_image(data_class, dir_path, label_dict):\n",
        "  data = []\n",
        "  labels = []\n",
        "  for label in tqdm(data_class):\n",
        "    data_path = os.path.join(dir_path, label)\n",
        "    image_names = os.listdir(data_path)\n",
        "    \n",
        "    for image in tqdm(image_names):\n",
        "      image_path = os.path.join(data_path, image)\n",
        "      images = cv2.imread(image_path) \n",
        "      try:\n",
        "        imag = cv2.cvtColor(images, cv2.COLOR_BGR2RGB)\n",
        "        img = cv2.resize(imag, (100,100))\n",
        "        \n",
        "        data.append((img, label_dict[label]))\n",
        "      except Exception as e:\n",
        "        print(e)\n",
        "\n",
        "  return data"
      ],
      "execution_count": 65,
      "outputs": []
    },
    {
      "cell_type": "code",
      "metadata": {
        "id": "Ys-La5Xipz4Q"
      },
      "source": [
        "#Shuffles the data and then save it to a pre-specified path\n",
        "def shuffle_and_save_data(data, save_dir):\n",
        "  np.random.shuffle(data)  \n",
        "  np.save(save_dir, data)\n"
      ],
      "execution_count": 67,
      "outputs": []
    },
    {
      "cell_type": "code",
      "metadata": {
        "id": "Mb7uCt33n19O"
      },
      "source": [
        "#Customized Dataset class to set and get the data.\n",
        "class FaceMaskDataset(Dataset):\n",
        "  #saving the data\n",
        "  def __init__(self, data):\n",
        "    self.data = data\n",
        "    self.transformation = transforms.Compose([\n",
        "                                   transforms.ToTensor(),\n",
        "                                   transforms.Normalize((0.5,0.5,0.5),(0.5,0.5,0.5)),\n",
        "                                   transforms.Resize((100,100))\n",
        "                                   ])\n",
        "  \n",
        "  def __getitem__(self, id):\n",
        "    return self.transformation(self.data[id][0]), torch.tensor(self.data[id][1])\n",
        "  \n",
        "  def __len__(self):\n",
        "    return self.data.__len__()\n"
      ],
      "execution_count": 68,
      "outputs": []
    },
    {
      "cell_type": "code",
      "metadata": {
        "id": "ujVIxWgER3ea"
      },
      "source": [
        "#CNN Architecture to train the model.\n",
        "class CNN(nn.Module):\n",
        "  def __init__(self):\n",
        "    super(CNN, self).__init__()\n",
        "    self.conv_layer = nn.Sequential(\n",
        "        #Layer 1\n",
        "        nn.Conv2d(in_channels=3, out_channels=64, kernel_size=3, stride=1, padding=1),\n",
        "        nn.BatchNorm2d(64),\n",
        "        nn.ReLU(inplace=True),\n",
        "        nn.MaxPool2d(kernel_size=2, stride=2),\n",
        "\n",
        "        #Layer 2\n",
        "        nn.Conv2d(in_channels=64, out_channels=128, kernel_size=3, stride=1, padding=1),\n",
        "        nn.BatchNorm2d(128),\n",
        "        nn.ReLU(inplace=True),\n",
        "        nn.MaxPool2d(kernel_size=2, stride=2),\n",
        "    \n",
        "        #Layer 3\n",
        "        nn.Conv2d(in_channels=128, out_channels=256, kernel_size=3, stride=1, padding=1),\n",
        "        nn.BatchNorm2d(256),\n",
        "        nn.ReLU(inplace=True),\n",
        "        nn.MaxPool2d(kernel_size=2, stride=2),\n",
        "    )\n",
        "    \n",
        "    #Fully Connected Layer\n",
        "    self.linear_layers = nn.Sequential(\n",
        "        nn.Dropout(p=0.1),\n",
        "        nn.Linear(256 * 12 * 12, 128),\n",
        "        nn.ReLU(inplace=True),\n",
        "        nn.Linear(128, 64),\n",
        "        nn.ReLU(inplace=True),\n",
        "        nn.Dropout(p=0.1),\n",
        "        nn.Linear(64,10)\n",
        "    )\n",
        "\n",
        "  def forward(self, x):\n",
        "    x = self.conv_layer(x)\n",
        "    #print(x.shape)\n",
        "    x = x.view(x.size(0), -1)\n",
        "    x = self.linear_layers(x)\n",
        "    return x"
      ],
      "execution_count": 70,
      "outputs": []
    },
    {
      "cell_type": "code",
      "metadata": {
        "id": "-dRwxp23RXe6"
      },
      "source": [
        "#This will load the saved data and then split it into two parts and then load the data \n",
        "#using DataLoader() method with some batch_size.\n",
        "def data_loader(save_dir):\n",
        "  data = np.load(save_dir, allow_pickle=True)\n",
        "\n",
        "  training_data, testing_data = train_test_split(data, test_size = 0.3, random_state = 0)\n",
        "\n",
        "  training_dataset = FaceMaskDataset(training_data)\n",
        "  testing_dataset = FaceMaskDataset(testing_data)\n",
        "\n",
        "  train_loader = DataLoader(training_dataset, batch_size=32)\n",
        "  test_loader = DataLoader(testing_dataset, batch_size=32)\n",
        "\n",
        "  return train_loader, test_loader"
      ],
      "execution_count": 71,
      "outputs": []
    },
    {
      "cell_type": "code",
      "metadata": {
        "id": "TQxrh1IRqUp7"
      },
      "source": [
        "#This method will train the dataset according to the specified epoch number.\n",
        "def model_trainer(train_loader, test_loader, epoch_number):\n",
        "  model = CNN()\n",
        "\n",
        "  loss_criteria = nn.CrossEntropyLoss()\n",
        "  optimizer = torch.optim.Adam(model.parameters(), lr=0.001)\n",
        "\n",
        "  total_step = len(train_loader)\n",
        "  training_accuracy_list = []\n",
        "  training_loss_list = []\n",
        "\n",
        "  for epoch in range(epoch_number):\n",
        "    for i, (images, labels) in enumerate(train_loader):\n",
        "      outputs = model(images)\n",
        "\n",
        "      #Forward Pass\n",
        "      training_loss = loss_criteria(outputs, labels)\n",
        "      training_loss_list.append(training_loss.item())\n",
        "\n",
        "      #Backpropogation and Optimization\n",
        "      optimizer.zero_grad()\n",
        "      training_loss.backward()\n",
        "      optimizer.step()\n",
        "\n",
        "      #Training Accuracy\n",
        "      total = labels.size(0)\n",
        "      _, predicted = torch.max(outputs.data, 1)\n",
        "      correct = (predicted == labels).sum().item()\n",
        "      training_accuracy_list.append(correct / total)\n",
        "\n",
        "    print('Epoch [{}/{}], Loss: {:.4f}, Accuracy: {:.2f}%'\n",
        "        .format(epoch + 1, epoch_number, training_loss.item(),\n",
        "        (correct / total) * 100))\n",
        "\n",
        "  return model\n",
        "  "
      ],
      "execution_count": 72,
      "outputs": []
    },
    {
      "cell_type": "code",
      "metadata": {
        "id": "ZaKSn0atQwn2"
      },
      "source": [
        "#This method will save the model onto a pre-specified path.\n",
        "def save_model(model, model_name, model_save_dir):\n",
        "  torch.save(model.state_dict(), \"{}/{}\".format(model_save_dir, model_name))    "
      ],
      "execution_count": 73,
      "outputs": []
    },
    {
      "cell_type": "code",
      "metadata": {
        "id": "gIn1x0-9XiWV"
      },
      "source": [
        "#Confusion Matrix - Accuracy, f-measure, recall and precision and also plotting confusion Matrix\n",
        "def generate_matrix(model, title, data_loader, classes):\n",
        "  model.eval()\n",
        "  prediction_list = []\n",
        "  accurate_list = []\n",
        "  with torch.no_grad():\n",
        "    for images, labels in data_loader:\n",
        "      outputs = model(images)\n",
        "      _, predicted = torch.max(model(images), 1)\n",
        "      prediction_list.extend(predicted.detach().cpu().numpy())\n",
        "      accurate_list.extend(labels.detach().cpu().numpy())\n",
        "  \n",
        "  print(\"{} Classification Report: \".format(title))\n",
        "  print(classification_report(prediction_list, accurate_list))\n",
        "  print(\"{} Confusion Matrix: \".format(title))\n",
        "  \n",
        "  confusion_matrix_data = confusion_matrix(accurate_list, prediction_list)\n",
        " \n",
        "  #Plotting confusion matrix\n",
        "  conf_matrix = sns.heatmap(confusion_matrix_data, annot=True, fmt='g' )\n",
        "\n",
        "  conf_matrix.set_title('Confusion Matrix with labels!!');\n",
        "  conf_matrix.set_xlabel('Predicted Categories')\n",
        "  conf_matrix.set_ylabel('Actual Categories');\n",
        "\n",
        "  conf_matrix.xaxis.set_ticklabels(['Cloth Mask', 'Surgical Mask', 'Without a Mask', 'FFP2 Mask'])\n",
        "  conf_matrix.yaxis.set_ticklabels(['Cloth Mask', 'Surgical Mask', 'Without a Mask', 'FFP2 Mask'])\n",
        "\n",
        "  plt.setp(conf_matrix.get_xticklabels(), rotation=45, ha=\"right\",\n",
        "         rotation_mode=\"anchor\")\n",
        "  plt.setp(conf_matrix.get_yticklabels(), rotation=60, ha=\"right\",\n",
        "         rotation_mode=\"anchor\")\n",
        "  \n",
        "  plt.show()"
      ],
      "execution_count": 75,
      "outputs": []
    },
    {
      "cell_type": "code",
      "metadata": {
        "id": "aw_euzuTAphl"
      },
      "source": [
        "#This method will predict some unlabelled images' categories.\n",
        "def predict_image(image_path, model, data_classes):\n",
        "  image_names = os.listdir(image_path)\n",
        "  label = {i for i in range(len(data_classes))}\n",
        "  label_dict = dict(zip(label,data_classes))\n",
        "  print(\"Prediction Time: \")\n",
        "  for images in image_names:\n",
        "    loader = transforms.Compose([\n",
        "                                   transforms.ToTensor(),\n",
        "                                   transforms.Normalize((0.5,0.5,0.5),(0.5,0.5,0.5)),\n",
        "                                   transforms.Resize((100,100))\n",
        "                              ])\n",
        "    image_name = os.path.join(sample_image_path, images)\n",
        "    image = Image.open(image_name)\n",
        "    image.show()\n",
        "    image = loader(image).float()\n",
        "    image = image.unsqueeze(0)\n",
        "\n",
        "    _, predicted = torch.max(model(image), dim=1)\n",
        "\n",
        "    pre = predicted[0]\n",
        "    key = pre.item()\n",
        "    \n",
        "    print(images,\"  ->  \", label_dict[key])\n",
        "    "
      ],
      "execution_count": 76,
      "outputs": []
    },
    {
      "cell_type": "code",
      "metadata": {
        "id": "HsjqMfrj_jFg"
      },
      "source": [
        "def FaceMaskDetection():\n",
        "  if torch.cuda.is_available():\n",
        "    device = torch.device('cuda')\n",
        "  else:\n",
        "    device = torch.device('cpu')\n",
        "  \n",
        "  print(\"Data Categories:\")\n",
        "  data_classes = get_data_class(dir_path)\n",
        "  \n",
        "  print(\"Data Categories and its labels:\")\n",
        "  data_labels = set_labels_and_zip_class_and_label(data_classes)\n",
        "      \n",
        "  print(\"Loading each image and mapping to its label:\")      \n",
        "  data = load_image(data_classes, dir_path, data_labels)\n",
        "  \n",
        "  print(\"Shuffling and saving the data:\")\n",
        "  shuffle_and_save_data(data, save_dir)\n",
        "      \n",
        "  print(\"loading the dataset:\")\n",
        "  train_loader, test_loader = data_loader(save_dir)\n",
        "  \n",
        "  print(\"Training the model:\")\n",
        "  model = model_trainer(train_loader, test_loader, epoch_number = 30)\n",
        "  \n",
        "  model = model.to(device)\n",
        "  model_name = \"COMP6721-AI-Project-1\"\n",
        "  print(\"Saving the trained model:\")\n",
        "  save_model(model, model_name, model_dir)\n",
        "      \n",
        "  generate_matrix(model, \"training\", train_loader, data_classes)\n",
        "  generate_matrix(model, \"testing\", test_loader, data_classes)\n",
        "  \n",
        "  print(\"Classifying the Images:\")\n",
        "  predict_image(sample_image_path, model, data_classes)\n",
        "    \n",
        "    "
      ],
      "execution_count": 77,
      "outputs": []
    },
    {
      "cell_type": "code",
      "metadata": {
        "colab": {
          "base_uri": "https://localhost:8080/",
          "height": 1000
        },
        "id": "sc93bZcPtK4I",
        "outputId": "67b0ed96-590c-44dc-f81c-5661b4611400"
      },
      "source": [
        "FaceMaskDetection()"
      ],
      "execution_count": 78,
      "outputs": [
        {
          "output_type": "stream",
          "name": "stdout",
          "text": [
            "Data Categories:\n",
            "['cloth_mask', 'surgical_mask', 'without_mask', 'ffp2_mask']\n",
            "Data Categories and its labels:\n",
            "[0, 1, 2, 3]\n",
            "{'cloth_mask': 0, 'surgical_mask': 1, 'without_mask': 2, 'ffp2_mask': 3}\n",
            "Loading each image and mapping to its label:\n"
          ]
        },
        {
          "output_type": "stream",
          "name": "stderr",
          "text": [
            "  0%|          | 0/4 [00:00<?, ?it/s]\n",
            "  0%|          | 0/331 [00:00<?, ?it/s]\u001b[A\n",
            "  2%|▏         | 7/331 [00:00<00:04, 65.56it/s]\u001b[A\n",
            "  5%|▍         | 16/331 [00:00<00:04, 71.16it/s]\u001b[A\n",
            "  7%|▋         | 24/331 [00:00<00:04, 61.95it/s]\u001b[A\n",
            "  9%|▉         | 31/331 [00:00<00:05, 54.32it/s]\u001b[A\n",
            " 11%|█▏        | 38/331 [00:00<00:05, 57.51it/s]\u001b[A\n",
            " 14%|█▍        | 47/331 [00:00<00:04, 66.63it/s]\u001b[A\n",
            " 16%|█▋        | 54/331 [00:00<00:04, 56.31it/s]\u001b[A\n",
            " 19%|█▉        | 63/331 [00:01<00:08, 30.71it/s]\u001b[A\n",
            " 21%|██        | 68/331 [00:01<00:08, 30.64it/s]\u001b[A\n",
            " 22%|██▏       | 73/331 [00:01<00:08, 31.51it/s]\u001b[A\n",
            " 23%|██▎       | 77/331 [00:01<00:07, 31.92it/s]\u001b[A\n",
            " 24%|██▍       | 81/331 [00:02<00:07, 31.53it/s]\u001b[A\n",
            " 27%|██▋       | 88/331 [00:02<00:06, 37.20it/s]\u001b[A\n",
            " 28%|██▊       | 93/331 [00:02<00:06, 38.60it/s]\u001b[A\n",
            " 30%|██▉       | 98/331 [00:02<00:06, 37.42it/s]\u001b[A\n",
            " 32%|███▏      | 106/331 [00:02<00:05, 44.89it/s]\u001b[A\n",
            " 34%|███▎      | 111/331 [00:02<00:05, 43.94it/s]\u001b[A\n",
            " 35%|███▌      | 116/331 [00:02<00:05, 40.00it/s]\u001b[A\n",
            " 37%|███▋      | 121/331 [00:02<00:05, 39.13it/s]\u001b[A\n",
            " 38%|███▊      | 127/331 [00:03<00:04, 43.32it/s]\u001b[A\n",
            " 40%|███▉      | 132/331 [00:03<00:04, 44.65it/s]\u001b[A\n",
            " 42%|████▏     | 138/331 [00:03<00:04, 47.34it/s]\u001b[A\n",
            " 44%|████▍     | 145/331 [00:03<00:03, 50.81it/s]\u001b[A\n",
            " 46%|████▌     | 151/331 [00:03<00:05, 32.10it/s]\u001b[A\n",
            " 48%|████▊     | 159/331 [00:03<00:04, 38.53it/s]\u001b[A\n",
            " 50%|█████     | 166/331 [00:03<00:03, 44.09it/s]\u001b[A\n",
            " 53%|█████▎    | 175/331 [00:04<00:02, 53.42it/s]\u001b[A\n",
            " 56%|█████▌    | 184/331 [00:04<00:02, 61.46it/s]\u001b[A\n",
            " 58%|█████▊    | 191/331 [00:04<00:02, 58.36it/s]\u001b[A\n",
            " 60%|█████▉    | 198/331 [00:04<00:02, 53.73it/s]\u001b[A\n",
            " 62%|██████▏   | 204/331 [00:04<00:02, 51.42it/s]\u001b[A\n",
            " 63%|██████▎   | 210/331 [00:04<00:02, 51.72it/s]\u001b[A\n",
            " 65%|██████▌   | 216/331 [00:04<00:02, 50.26it/s]\u001b[A\n",
            " 67%|██████▋   | 222/331 [00:05<00:03, 36.32it/s]\u001b[A\n",
            " 69%|██████▉   | 229/331 [00:05<00:02, 42.61it/s]\u001b[A\n",
            " 71%|███████   | 235/331 [00:05<00:02, 41.50it/s]\u001b[A\n",
            " 73%|███████▎  | 243/331 [00:05<00:01, 47.96it/s]\u001b[A\n",
            " 75%|███████▌  | 249/331 [00:05<00:01, 48.18it/s]\u001b[A\n",
            " 77%|███████▋  | 255/331 [00:05<00:01, 48.14it/s]\u001b[A\n",
            " 79%|███████▉  | 263/331 [00:05<00:01, 55.81it/s]\u001b[A\n",
            " 81%|████████▏ | 269/331 [00:06<00:01, 43.77it/s]\u001b[A\n",
            " 85%|████████▍ | 281/331 [00:06<00:00, 57.31it/s]\u001b[A\n",
            " 88%|████████▊ | 290/331 [00:06<00:00, 64.40it/s]\u001b[A\n",
            " 91%|█████████ | 300/331 [00:06<00:00, 72.17it/s]\u001b[A\n",
            " 93%|█████████▎| 308/331 [00:06<00:00, 53.83it/s]\u001b[A\n",
            "100%|██████████| 331/331 [00:06<00:00, 48.06it/s]\n",
            " 25%|██▌       | 1/4 [00:06<00:20,  6.90s/it]\n",
            "  0%|          | 0/333 [00:00<?, ?it/s]\u001b[A\n",
            "  6%|▌         | 19/333 [00:00<00:01, 184.37it/s]\u001b[A\n",
            " 11%|█▏        | 38/333 [00:00<00:01, 183.97it/s]\u001b[A\n",
            " 17%|█▋        | 57/333 [00:00<00:02, 135.33it/s]\u001b[A\n",
            " 22%|██▏       | 72/333 [00:00<00:02, 126.16it/s]\u001b[A\n",
            " 26%|██▌       | 86/333 [00:00<00:02, 112.81it/s]\u001b[A\n",
            " 31%|███       | 102/333 [00:00<00:01, 116.08it/s]\u001b[A\n",
            " 34%|███▍      | 114/333 [00:01<00:03, 70.31it/s] \u001b[A\n",
            " 40%|███▉      | 132/333 [00:01<00:02, 89.72it/s]\u001b[A\n",
            " 45%|████▌     | 151/333 [00:01<00:01, 103.37it/s]\u001b[A\n",
            " 50%|█████     | 167/333 [00:01<00:01, 115.36it/s]\u001b[A\n",
            " 54%|█████▍    | 181/333 [00:01<00:01, 118.33it/s]\u001b[A\n",
            " 59%|█████▉    | 197/333 [00:01<00:01, 128.03it/s]\u001b[A\n",
            " 64%|██████▎   | 212/333 [00:01<00:00, 125.94it/s]\u001b[A\n",
            " 69%|██████▉   | 231/333 [00:01<00:00, 142.18it/s]\u001b[A\n",
            " 75%|███████▍  | 249/333 [00:02<00:00, 150.60it/s]\u001b[A\n",
            " 80%|███████▉  | 265/333 [00:02<00:00, 150.93it/s]\u001b[A\n",
            " 85%|████████▍ | 282/333 [00:02<00:00, 154.84it/s]\u001b[A\n",
            " 89%|████████▉ | 298/333 [00:02<00:00, 134.29it/s]\u001b[A\n",
            " 95%|█████████▍| 316/333 [00:02<00:00, 145.87it/s]\u001b[A\n",
            "100%|██████████| 333/333 [00:02<00:00, 120.30it/s]\n",
            " 50%|█████     | 2/4 [00:09<00:08,  4.48s/it]\n",
            "  0%|          | 0/332 [00:00<?, ?it/s]\u001b[A\n",
            "  5%|▍         | 15/332 [00:00<00:02, 139.40it/s]\u001b[A\n",
            "  9%|▊         | 29/332 [00:00<00:02, 129.57it/s]\u001b[A\n",
            " 13%|█▎        | 42/332 [00:00<00:02, 121.99it/s]\u001b[A\n",
            " 17%|█▋        | 55/332 [00:00<00:02, 120.93it/s]\u001b[A\n",
            " 20%|██        | 68/332 [00:00<00:02, 123.92it/s]\u001b[A\n",
            " 24%|██▍       | 81/332 [00:00<00:02, 125.39it/s]\u001b[A\n",
            " 29%|██▉       | 96/332 [00:00<00:01, 128.76it/s]\u001b[A\n",
            " 33%|███▎      | 109/332 [00:00<00:01, 118.27it/s]\u001b[A\n",
            " 38%|███▊      | 125/332 [00:01<00:01, 124.92it/s]\u001b[A\n",
            " 42%|████▏     | 138/332 [00:01<00:01, 121.20it/s]\u001b[A\n",
            " 46%|████▋     | 154/332 [00:01<00:01, 131.54it/s]\u001b[A\n",
            " 51%|█████     | 170/332 [00:01<00:01, 138.74it/s]\u001b[A\n",
            " 56%|█████▌    | 185/332 [00:01<00:01, 139.13it/s]\u001b[A\n",
            " 60%|██████    | 200/332 [00:01<00:00, 139.08it/s]\u001b[A\n",
            " 65%|██████▌   | 216/332 [00:01<00:00, 144.35it/s]\u001b[A\n",
            " 70%|██████▉   | 231/332 [00:01<00:00, 130.07it/s]\u001b[A\n",
            " 74%|███████▍  | 245/332 [00:02<00:01, 77.28it/s] \u001b[A\n",
            " 77%|███████▋  | 256/332 [00:02<00:01, 74.48it/s]\u001b[A\n",
            " 80%|████████  | 266/332 [00:02<00:00, 74.32it/s]\u001b[A\n",
            " 83%|████████▎ | 275/332 [00:02<00:00, 73.18it/s]\u001b[A\n",
            " 86%|████████▌ | 284/332 [00:02<00:00, 70.76it/s]\u001b[A\n",
            " 88%|████████▊ | 292/332 [00:02<00:00, 68.75it/s]\u001b[A\n",
            " 90%|█████████ | 300/332 [00:02<00:00, 66.28it/s]\u001b[A\n",
            " 92%|█████████▏| 307/332 [00:03<00:00, 62.90it/s]\u001b[A\n",
            " 95%|█████████▍| 314/332 [00:03<00:00, 63.93it/s]\u001b[A\n",
            " 97%|█████████▋| 321/332 [00:03<00:00, 64.13it/s]\u001b[A\n",
            "100%|██████████| 332/332 [00:03<00:00, 94.88it/s]\n",
            " 75%|███████▌  | 3/4 [00:13<00:04,  4.04s/it]\n",
            "  0%|          | 0/330 [00:00<?, ?it/s]\u001b[A\n",
            "  1%|          | 3/330 [00:00<00:20, 15.84it/s]\u001b[A\n",
            "  3%|▎         | 11/330 [00:00<00:07, 41.19it/s]\u001b[A\n",
            "  5%|▍         | 16/330 [00:00<00:09, 31.98it/s]\u001b[A\n",
            "  7%|▋         | 24/330 [00:00<00:07, 41.62it/s]\u001b[A\n",
            "  9%|▉         | 31/330 [00:00<00:06, 44.95it/s]\u001b[A\n",
            " 12%|█▏        | 38/330 [00:00<00:05, 50.38it/s]\u001b[A\n",
            " 14%|█▍        | 47/330 [00:01<00:05, 56.29it/s]\u001b[A\n",
            " 17%|█▋        | 57/330 [00:01<00:05, 52.30it/s]\u001b[A\n",
            " 19%|█▉        | 63/330 [00:01<00:05, 47.38it/s]\u001b[A\n",
            " 22%|██▏       | 71/330 [00:01<00:05, 50.96it/s]\u001b[A\n",
            " 24%|██▍       | 80/330 [00:01<00:04, 56.04it/s]\u001b[A"
          ]
        },
        {
          "output_type": "stream",
          "name": "stdout",
          "text": [
            "OpenCV(4.1.2) /io/opencv/modules/imgproc/src/color.cpp:182: error: (-215:Assertion failed) !_src.empty() in function 'cvtColor'\n",
            "\n"
          ]
        },
        {
          "output_type": "stream",
          "name": "stderr",
          "text": [
            "\n",
            " 26%|██▌       | 86/330 [00:01<00:04, 54.87it/s]\u001b[A\n",
            " 28%|██▊       | 94/330 [00:01<00:03, 60.77it/s]\u001b[A\n",
            " 31%|███       | 101/330 [00:02<00:07, 29.44it/s]\u001b[A\n",
            " 33%|███▎      | 108/330 [00:02<00:06, 32.71it/s]\u001b[A\n",
            " 34%|███▍      | 113/330 [00:02<00:06, 33.58it/s]\u001b[A\n",
            " 36%|███▌      | 118/330 [00:02<00:06, 32.61it/s]\u001b[A\n",
            " 37%|███▋      | 122/330 [00:02<00:06, 33.88it/s]\u001b[A\n",
            " 39%|███▉      | 130/330 [00:03<00:04, 42.83it/s]\u001b[A\n",
            " 42%|████▏     | 139/330 [00:03<00:04, 46.06it/s]\u001b[A\n",
            " 44%|████▍     | 146/330 [00:03<00:03, 49.14it/s]\u001b[A\n",
            " 46%|████▋     | 153/330 [00:03<00:04, 43.02it/s]\u001b[A\n",
            " 49%|████▉     | 162/330 [00:03<00:03, 52.14it/s]\u001b[A\n",
            " 51%|█████     | 169/330 [00:03<00:02, 56.05it/s]\u001b[A\n",
            " 53%|█████▎    | 176/330 [00:04<00:06, 25.48it/s]\u001b[A\n",
            " 55%|█████▍    | 181/330 [00:04<00:05, 25.66it/s]\u001b[A\n",
            " 56%|█████▋    | 186/330 [00:04<00:05, 28.38it/s]\u001b[A\n",
            " 58%|█████▊    | 192/330 [00:04<00:04, 30.88it/s]\u001b[A\n",
            " 61%|██████    | 200/330 [00:05<00:04, 31.22it/s]\u001b[A\n",
            " 62%|██████▏   | 204/330 [00:05<00:03, 32.27it/s]\u001b[A\n",
            " 63%|██████▎   | 208/330 [00:05<00:04, 25.13it/s]\u001b[A\n",
            " 65%|██████▍   | 214/330 [00:05<00:03, 29.94it/s]\u001b[A\n",
            " 66%|██████▌   | 218/330 [00:05<00:03, 31.45it/s]\u001b[A\n",
            " 68%|██████▊   | 223/330 [00:05<00:03, 35.21it/s]\u001b[A\n",
            " 69%|██████▉   | 229/330 [00:05<00:02, 40.48it/s]\u001b[A\n",
            " 71%|███████   | 234/330 [00:06<00:02, 32.09it/s]\u001b[A\n",
            " 73%|███████▎  | 242/330 [00:06<00:02, 41.57it/s]\u001b[A\n",
            " 76%|███████▌  | 250/330 [00:07<00:05, 14.35it/s]\u001b[A\n",
            " 77%|███████▋  | 254/330 [00:07<00:04, 16.49it/s]\u001b[A\n",
            " 79%|███████▉  | 262/330 [00:07<00:02, 23.24it/s]\u001b[A\n",
            " 82%|████████▏ | 270/330 [00:07<00:02, 29.92it/s]\u001b[A\n",
            " 85%|████████▍ | 279/330 [00:08<00:01, 35.50it/s]\u001b[A\n",
            " 87%|████████▋ | 287/330 [00:08<00:01, 41.81it/s]\u001b[A\n",
            " 89%|████████▉ | 293/330 [00:08<00:01, 24.59it/s]\u001b[A\n",
            " 90%|█████████ | 298/330 [00:09<00:01, 21.11it/s]\u001b[A\n",
            " 93%|█████████▎| 307/330 [00:09<00:00, 29.34it/s]\u001b[A\n",
            " 95%|█████████▍| 313/330 [00:09<00:00, 22.79it/s]\u001b[A\n",
            " 96%|█████████▋| 318/330 [00:09<00:00, 25.66it/s]\u001b[A\n",
            "100%|██████████| 330/330 [00:09<00:00, 33.48it/s]\n",
            "100%|██████████| 4/4 [00:23<00:00,  5.77s/it]\n",
            "/usr/local/lib/python3.7/dist-packages/numpy/core/_asarray.py:136: VisibleDeprecationWarning: Creating an ndarray from ragged nested sequences (which is a list-or-tuple of lists-or-tuples-or ndarrays with different lengths or shapes) is deprecated. If you meant to do this, you must specify 'dtype=object' when creating the ndarray\n",
            "  return array(a, dtype, copy=False, order=order, subok=True)\n"
          ]
        },
        {
          "output_type": "stream",
          "name": "stdout",
          "text": [
            "Shuffling and saving the data:\n",
            "loading the dataset:\n",
            "Training the model:\n",
            "Epoch [1/30], Loss: 1.0531, Accuracy: 67.74%\n",
            "Epoch [2/30], Loss: 0.8493, Accuracy: 70.97%\n",
            "Epoch [3/30], Loss: 0.6786, Accuracy: 74.19%\n",
            "Epoch [4/30], Loss: 0.6503, Accuracy: 80.65%\n",
            "Epoch [5/30], Loss: 0.4899, Accuracy: 77.42%\n",
            "Epoch [6/30], Loss: 0.3725, Accuracy: 87.10%\n",
            "Epoch [7/30], Loss: 0.5581, Accuracy: 83.87%\n",
            "Epoch [8/30], Loss: 0.4192, Accuracy: 87.10%\n",
            "Epoch [9/30], Loss: 0.4169, Accuracy: 83.87%\n",
            "Epoch [10/30], Loss: 0.3840, Accuracy: 77.42%\n",
            "Epoch [11/30], Loss: 0.3122, Accuracy: 83.87%\n",
            "Epoch [12/30], Loss: 0.4220, Accuracy: 87.10%\n",
            "Epoch [13/30], Loss: 0.2782, Accuracy: 87.10%\n",
            "Epoch [14/30], Loss: 0.2465, Accuracy: 90.32%\n",
            "Epoch [15/30], Loss: 0.1259, Accuracy: 93.55%\n",
            "Epoch [16/30], Loss: 0.1514, Accuracy: 90.32%\n",
            "Epoch [17/30], Loss: 0.1779, Accuracy: 96.77%\n",
            "Epoch [18/30], Loss: 0.1080, Accuracy: 93.55%\n",
            "Epoch [19/30], Loss: 0.0670, Accuracy: 96.77%\n",
            "Epoch [20/30], Loss: 0.0688, Accuracy: 96.77%\n",
            "Epoch [21/30], Loss: 0.1170, Accuracy: 96.77%\n",
            "Epoch [22/30], Loss: 0.0536, Accuracy: 100.00%\n",
            "Epoch [23/30], Loss: 0.1355, Accuracy: 96.77%\n",
            "Epoch [24/30], Loss: 0.0219, Accuracy: 100.00%\n",
            "Epoch [25/30], Loss: 0.0546, Accuracy: 96.77%\n",
            "Epoch [26/30], Loss: 0.0056, Accuracy: 100.00%\n",
            "Epoch [27/30], Loss: 0.0387, Accuracy: 96.77%\n",
            "Epoch [28/30], Loss: 0.0108, Accuracy: 100.00%\n",
            "Epoch [29/30], Loss: 0.0149, Accuracy: 100.00%\n",
            "Epoch [30/30], Loss: 0.0638, Accuracy: 96.77%\n",
            "Saving the trained model:\n",
            "training Classification Report: \n",
            "              precision    recall  f1-score   support\n",
            "\n",
            "           0       0.99      0.99      0.99       222\n",
            "           1       1.00      0.99      0.99       228\n",
            "           2       0.99      1.00      0.99       234\n",
            "           3       0.99      0.99      0.99       243\n",
            "\n",
            "    accuracy                           0.99       927\n",
            "   macro avg       0.99      0.99      0.99       927\n",
            "weighted avg       0.99      0.99      0.99       927\n",
            "\n",
            "training Confusion Matrix: \n"
          ]
        },
        {
          "output_type": "display_data",
          "data": {
            "image/png": "[encoded data removed]",
            "text/plain": [
              "<Figure size 432x288 with 2 Axes>"
            ]
          },
          "metadata": {
            "needs_background": "light"
          }
        },
        {
          "output_type": "stream",
          "name": "stdout",
          "text": [
            "testing Classification Report: \n",
            "              precision    recall  f1-score   support\n",
            "\n",
            "           0       0.68      0.70      0.69       105\n",
            "           1       0.84      0.79      0.82       115\n",
            "           2       0.87      0.93      0.90        89\n",
            "           3       0.58      0.56      0.57        89\n",
            "\n",
            "    accuracy                           0.75       398\n",
            "   macro avg       0.74      0.75      0.75       398\n",
            "weighted avg       0.75      0.75      0.75       398\n",
            "\n",
            "testing Confusion Matrix: \n"
          ]
        },
        {
          "output_type": "display_data",
          "data": {
            "image/png": "[encoded data removed]",
            "text/plain": [
              "<Figure size 432x288 with 2 Axes>"
            ]
          },
          "metadata": {
            "needs_background": "light"
          }
        },
        {
          "output_type": "stream",
          "name": "stdout",
          "text": [
            "Classifying the Images:\n",
            "Prediction Time: \n",
            "cloth_1.jpg   ->   cloth_mask\n",
            "person_1.jpg   ->   ffp2_mask\n",
            "surgical_1.jpg   ->   surgical_mask\n",
            "surgical_2.jpg   ->   surgical_mask\n",
            "surgical_3.jpg   ->   surgical_mask\n",
            "ffp2_1.jpeg   ->   surgical_mask\n",
            "ffp2_2.jpeg   ->   surgical_mask\n",
            "ffp2_3.jpeg   ->   cloth_mask\n",
            "person_2.jpg   ->   cloth_mask\n",
            "person_3.jpg   ->   without_mask\n",
            "cloth_2.jpg   ->   cloth_mask\n",
            "cloth_3.jpg   ->   cloth_mask\n"
          ]
        }
      ]
    }
  ]
}